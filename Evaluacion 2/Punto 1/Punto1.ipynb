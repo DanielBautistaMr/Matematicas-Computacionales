{
  "nbformat": 4,
  "nbformat_minor": 0,
  "metadata": {
    "colab": {
      "provenance": []
    },
    "kernelspec": {
      "name": "python3",
      "display_name": "Python 3"
    },
    "language_info": {
      "name": "python"
    }
  },
  "cells": [
    {
      "cell_type": "code",
      "execution_count": 12,
      "metadata": {
        "colab": {
          "base_uri": "https://localhost:8080/"
        },
        "id": "O55nfCFf4Uo1",
        "outputId": "b74db85e-7252-4508-b911-52d4818abae8"
      },
      "outputs": [
        {
          "output_type": "stream",
          "name": "stdout",
          "text": [
            "MATRIZ\n",
            "[[ 1  0 -1]\n",
            " [ 2  0  2]\n",
            " [ 8  2 -3]]\n",
            "-----------------------------------------\n",
            "MATRIZ INVERSA:\n",
            "[[ 0.5    0.25   0.   ]\n",
            " [-2.75  -0.625  0.5  ]\n",
            " [-0.5    0.25  -0.   ]]\n"
          ]
        }
      ],
      "source": [
        "import numpy as np\n",
        "\n",
        "matriz = np.array([[1, 0, -1],\n",
        "                   [2, 0, 2],\n",
        "                   [8, 2, -3]])\n",
        "\n",
        "matriz_inversa = np.linalg.inv(matriz)\n",
        "\n",
        "print('MATRIZ')\n",
        "print(matriz)\n",
        "print('-----------------------------------------')\n",
        "print('MATRIZ INVERSA:')\n",
        "print(matriz_inversa)"
      ]
    }
  ]
}